{
  "metadata": {
    "kernelspec": {
      "language": "python",
      "display_name": "Python 3",
      "name": "python3"
    },
    "language_info": {
      "name": "python",
      "version": "3.11.13",
      "mimetype": "text/x-python",
      "codemirror_mode": {
        "name": "ipython",
        "version": 3
      },
      "pygments_lexer": "ipython3",
      "nbconvert_exporter": "python",
      "file_extension": ".py"
    },
    "kaggle": {
      "accelerator": "none",
      "dataSources": [
        {
          "sourceId": 3963374,
          "sourceType": "datasetVersion",
          "datasetId": 2352240
        }
      ],
      "dockerImageVersionId": 31089,
      "isInternetEnabled": false,
      "language": "python",
      "sourceType": "notebook",
      "isGpuEnabled": false
    },
    "colab": {
      "name": "Student Data Analysis",
      "provenance": [],
      "include_colab_link": true
    }
  },
  "nbformat_minor": 0,
  "nbformat": 4,
  "cells": [
    {
      "cell_type": "markdown",
      "metadata": {
        "id": "view-in-github",
        "colab_type": "text"
      },
      "source": [
        "<a href=\"https://colab.research.google.com/github/Jesus-David-Silva-Rangel-19/Student-Data-Analysis-with-Python/blob/main/Student_Data_Analysis.ipynb\" target=\"_parent\"><img src=\"https://colab.research.google.com/assets/colab-badge.svg\" alt=\"Open In Colab\"/></a>"
      ]
    },
    {
      "source": [
        "# IMPORTANT: RUN THIS CELL IN ORDER TO IMPORT YOUR KAGGLE DATA SOURCES,\n",
        "# THEN FEEL FREE TO DELETE THIS CELL.\n",
        "# NOTE: THIS NOTEBOOK ENVIRONMENT DIFFERS FROM KAGGLE'S PYTHON\n",
        "# ENVIRONMENT SO THERE MAY BE MISSING LIBRARIES USED BY YOUR\n",
        "# NOTEBOOK.\n",
        "import kagglehub\n",
        "erqizhou_students_data_analysis_path = kagglehub.dataset_download('erqizhou/students-data-analysis')\n",
        "\n",
        "print('Data source import complete.')\n"
      ],
      "metadata": {
        "id": "6bgPW4UyUJeI"
      },
      "cell_type": "code",
      "outputs": [],
      "execution_count": null
    },
    {
      "cell_type": "markdown",
      "source": [
        "# **Objetivos**\n",
        "\n",
        "Se quiere responder 5 preguntas clave:\n",
        "\n",
        "- ¿Cuáles son los factores que influyen en el rendimiento de los estudiantes?\n",
        "- ¿Cuáles son los temas que mejor dominan los estudiantes?\n",
        "- ¿Cuáles son los temas que peor rendimiento registran los estudiantes?\n",
        "- ¿Cuál es el GPA promedio de los estudiantes y que factores influencian el resultado?\n",
        "- ¿Qué estudiantes obtienen mejor desempeño según su género?"
      ],
      "metadata": {
        "id": "PKKw3TjLUJeQ"
      }
    },
    {
      "cell_type": "markdown",
      "source": [
        "# **Metodología**\n",
        "\n",
        "Para este proyecto se ha elegido la metodología CRISP-DM que define una serie de pasos y fases estructuradas para estandarizar el proceso de análisis y la presentación de resultados.\n",
        "\n",
        "La metodología CRISP-DM (Cross Industry Standard Process for Data Mining) es una de las más usadas para proyectos de análisis de datos y minería. Sus fases principales son:\n",
        "\n",
        "#### **Fases de CRISP-DM**\n",
        "\n",
        "1. **Comprensión del negocio (Business Understanding)**\n",
        "\n",
        "   * Definir los objetivos del proyecto desde la perspectiva del negocio.\n",
        "   * Identificar los problemas a resolver y los criterios de éxito.\n",
        "\n",
        "2. **Comprensión de los datos (Data Understanding)**\n",
        "\n",
        "   * Recolectar los datos iniciales.\n",
        "   * Explorar sus características, calidad, completitud y posibles problemas.\n",
        "\n",
        "3. **Preparación de los datos (Data Preparation)**\n",
        "\n",
        "   * Limpiar datos, manejar nulos y outliers.\n",
        "   * Seleccionar variables relevantes.\n",
        "   * Transformar y formatear datos para el análisis o modelado.\n",
        "\n",
        "4. **Modelado (Modeling)**\n",
        "\n",
        "   * Seleccionar técnicas de modelado adecuadas (regresión, clasificación, clustering, etc.).\n",
        "   * Entrenar y validar modelos.\n",
        "   * Ajustar parámetros para optimizar rendimiento.\n",
        "\n",
        "5. **Evaluación (Evaluation)**\n",
        "\n",
        "   * Medir qué tan bien el modelo responde al problema del negocio.\n",
        "   * Validar con métricas estadísticas y con criterios del negocio.\n",
        "   * Decidir si avanzar a implementación o volver a fases previas.\n",
        "\n",
        "6. **Despliegue (Deployment)**\n",
        "\n",
        "   * Poner en práctica el modelo o los resultados del análisis.\n",
        "   * Puede ser desde un informe hasta un sistema automatizado en producción.\n",
        "   * Documentar, monitorear y dar mantenimiento."
      ],
      "metadata": {
        "id": "MzEFW54XUJeT"
      }
    },
    {
      "cell_type": "markdown",
      "source": [
        "#### **Alcance**\n",
        "\n",
        "Durante el análisis solo se tratará de responder a las preguntas indicadas y se relacionará información clave a medida que vaya surgiendo en el proceso de exploración.\n",
        "\n",
        "Este proyecto busca encontrar datos que permiten tomar decisiones administrativas que beneficien a los estudiantes, adoptando la metodología de caso de estudio como base para el análisis en el conjunto de datos de Kaggle.\n",
        "\n",
        "El fin último del proyecto es servir de práctica para entrenar las habilidades técnicas en el manejo de proyectos de análisis de datos con Python, usando librerías como `Numpy`, `Pandas`, `Matplotlib`, `Seaborn` o `Scikit-Learn`."
      ],
      "metadata": {
        "id": "z9OARHKmUJeU"
      }
    },
    {
      "cell_type": "markdown",
      "source": [
        "# Importaciones"
      ],
      "metadata": {
        "id": "LSpEEURMUJeV"
      }
    },
    {
      "cell_type": "code",
      "source": [
        "# importa las librerias necesarias\n",
        "import numpy as np\n",
        "import pandas as pd\n",
        "import matplotlib.pyplot as plt\n",
        "import seaborn as sns\n",
        "import warnings\n",
        "\n",
        "# desactiva las advertencias\n",
        "warnings.filterwarnings('ignore')\n",
        "\n",
        "# obtiene la ruta de los datos de Kaggle\n",
        "import os\n",
        "for dirname, _, filenames in os.walk('/kaggle/input'):\n",
        "    for filename in filenames:\n",
        "        print(os.path.join(dirname, filename))"
      ],
      "metadata": {
        "_uuid": "8f2839f25d086af736a60e9eeb907d3b93b6e0e5",
        "_cell_guid": "b1076dfc-b9ad-4769-8c92-a6c4dae69d19",
        "trusted": true,
        "execution": {
          "iopub.status.busy": "2025-09-24T19:21:48.713066Z",
          "iopub.execute_input": "2025-09-24T19:21:48.713402Z",
          "iopub.status.idle": "2025-09-24T19:21:52.857814Z",
          "shell.execute_reply.started": "2025-09-24T19:21:48.713378Z",
          "shell.execute_reply": "2025-09-24T19:21:52.856873Z"
        },
        "id": "K7unp0G1UJeW"
      },
      "outputs": [],
      "execution_count": null
    },
    {
      "cell_type": "code",
      "source": [
        "# lee el conjunto de datos\n",
        "df = pd.read_csv('/kaggle/input/students-data-analysis/Students data.csv')\n",
        "\n",
        "# imprime un mensaje de confirmación\n",
        "print('El conjunto de datos fue leído exitosamente.')"
      ],
      "metadata": {
        "trusted": true,
        "execution": {
          "iopub.status.busy": "2025-09-24T19:21:52.859319Z",
          "iopub.execute_input": "2025-09-24T19:21:52.859812Z",
          "iopub.status.idle": "2025-09-24T19:21:52.882512Z",
          "shell.execute_reply.started": "2025-09-24T19:21:52.859787Z",
          "shell.execute_reply": "2025-09-24T19:21:52.88153Z"
        },
        "id": "D0RsudCdUJeX"
      },
      "outputs": [],
      "execution_count": null
    },
    {
      "cell_type": "markdown",
      "source": [
        "# **Análisis Exploratorio de datos (EDA)**"
      ],
      "metadata": {
        "id": "GMlSXojaUJeZ"
      }
    },
    {
      "cell_type": "code",
      "source": [
        "# imprime las 8 primeras filas\n",
        "print(df.head(8))"
      ],
      "metadata": {
        "trusted": true,
        "execution": {
          "iopub.status.busy": "2025-09-24T19:21:52.883643Z",
          "iopub.execute_input": "2025-09-24T19:21:52.883974Z",
          "iopub.status.idle": "2025-09-24T19:21:52.9337Z",
          "shell.execute_reply.started": "2025-09-24T19:21:52.883946Z",
          "shell.execute_reply": "2025-09-24T19:21:52.932712Z"
        },
        "id": "U2GNOicDUJea"
      },
      "outputs": [],
      "execution_count": null
    },
    {
      "cell_type": "code",
      "source": [
        "# imprime la estructura del dataset\n",
        "print(df.shape)"
      ],
      "metadata": {
        "trusted": true,
        "execution": {
          "iopub.status.busy": "2025-09-24T19:21:52.93565Z",
          "iopub.execute_input": "2025-09-24T19:21:52.935945Z",
          "iopub.status.idle": "2025-09-24T19:21:52.941237Z",
          "shell.execute_reply.started": "2025-09-24T19:21:52.935911Z",
          "shell.execute_reply": "2025-09-24T19:21:52.940321Z"
        },
        "id": "I8wvRpOuUJeb"
      },
      "outputs": [],
      "execution_count": null
    },
    {
      "cell_type": "markdown",
      "source": [
        "**NOTAS:**\n",
        "\n",
        "- El conjunto de datos cuenta con **105** registros y **17** columnas.\n",
        "- Este es un registro modesto para un análisis que se enfoca en encontrar información clave."
      ],
      "metadata": {
        "id": "YfM_X64uUJec"
      }
    },
    {
      "cell_type": "code",
      "source": [
        "# imprime el nombre de las columnas en orden alfabético\n",
        "print(df.columns.sort_values(ascending=True).tolist())"
      ],
      "metadata": {
        "trusted": true,
        "execution": {
          "iopub.status.busy": "2025-09-24T19:21:52.942173Z",
          "iopub.execute_input": "2025-09-24T19:21:52.942458Z",
          "iopub.status.idle": "2025-09-24T19:21:52.964823Z",
          "shell.execute_reply.started": "2025-09-24T19:21:52.942428Z",
          "shell.execute_reply": "2025-09-24T19:21:52.963761Z"
        },
        "id": "AGYrzMjNUJec"
      },
      "outputs": [],
      "execution_count": null
    },
    {
      "cell_type": "markdown",
      "source": [
        "#### **Notas**\n",
        "\n",
        "- Columnas como 'Algebra', 'Calculo 1', 'Calculo 2' y 'GPA' muestrarían información de los temas que ven los estudiantes.\n",
        "- El conjunto de datos parece centrado en tópicos que se relacionan con las matemáticas y la ingeniería.\n",
        "- Lo anterior es clave para elegir un enfoque basado en el análisis cuantitativo de los datos."
      ],
      "metadata": {
        "id": "mxP3mTzCUJed"
      }
    },
    {
      "cell_type": "code",
      "source": [
        "# Imprime la información del dataset\n",
        "print(df.info())"
      ],
      "metadata": {
        "trusted": true,
        "execution": {
          "iopub.status.busy": "2025-09-24T19:21:52.965949Z",
          "iopub.execute_input": "2025-09-24T19:21:52.966203Z",
          "iopub.status.idle": "2025-09-24T19:21:53.007872Z",
          "shell.execute_reply.started": "2025-09-24T19:21:52.966182Z",
          "shell.execute_reply": "2025-09-24T19:21:53.006748Z"
        },
        "id": "QwRPXV9HUJed"
      },
      "outputs": [],
      "execution_count": null
    },
    {
      "cell_type": "markdown",
      "source": [
        "**NOTAS:**\n",
        "\n",
        "- El conjunto de datos registra varias columnas númericas con predominancia de tipos enteros (**int64**).\n",
        "- También se registra un columna de tipo flotante (**Int64**).\n",
        "- Las columnas restantes pertenecen al tipo objetos (**object**)."
      ],
      "metadata": {
        "id": "k1GxhxNvUJed"
      }
    },
    {
      "cell_type": "code",
      "source": [
        "# imprime el recuento de columnas por tipo de dato\n",
        "print(df.dtypes.value_counts().sort_values(ascending=False))"
      ],
      "metadata": {
        "trusted": true,
        "execution": {
          "iopub.status.busy": "2025-09-24T19:21:53.009055Z",
          "iopub.execute_input": "2025-09-24T19:21:53.00941Z",
          "iopub.status.idle": "2025-09-24T19:21:53.033705Z",
          "shell.execute_reply.started": "2025-09-24T19:21:53.009378Z",
          "shell.execute_reply": "2025-09-24T19:21:53.032824Z"
        },
        "id": "yFDWUY4BUJee"
      },
      "outputs": [],
      "execution_count": null
    },
    {
      "cell_type": "code",
      "source": [
        "# imprime el recuento de tipo de datos por proporciones\n",
        "print(round(df.dtypes.value_counts(normalize=True)* 100, 2).sort_values(ascending=False))"
      ],
      "metadata": {
        "trusted": true,
        "execution": {
          "iopub.status.busy": "2025-09-24T19:21:53.03467Z",
          "iopub.execute_input": "2025-09-24T19:21:53.034977Z",
          "iopub.status.idle": "2025-09-24T19:21:53.053032Z",
          "shell.execute_reply.started": "2025-09-24T19:21:53.034952Z",
          "shell.execute_reply": "2025-09-24T19:21:53.052073Z"
        },
        "id": "_3w7ZtbaUJee"
      },
      "outputs": [],
      "execution_count": null
    },
    {
      "cell_type": "markdown",
      "source": [
        "**NOTAS:**\n",
        "\n",
        "- **11** columnas de tipo entero representan el **64.71%** de todas las columnas.\n",
        "- **5** columnas de tipo objetos representan el **29.41%** de todas las columnas.\n",
        "- **1** columna de tipo flotante representa el **5.88%** restante.\n",
        "\n",
        "**¿Qué sigue?**\n",
        "\n",
        "- La preponderancia de datos enteros confirma la naturaleza cuantitativa del análisis.\n",
        "- Ahora se puede seguir explorando más información que permita conocer el origen y la calidad de los datos."
      ],
      "metadata": {
        "id": "obI7HkDXUJee"
      }
    },
    {
      "cell_type": "code",
      "source": [
        "# imprime las últimas 8 filas\n",
        "print(df.tail(8))"
      ],
      "metadata": {
        "trusted": true,
        "execution": {
          "iopub.status.busy": "2025-09-24T19:21:53.053973Z",
          "iopub.execute_input": "2025-09-24T19:21:53.05427Z",
          "iopub.status.idle": "2025-09-24T19:21:53.077455Z",
          "shell.execute_reply.started": "2025-09-24T19:21:53.054244Z",
          "shell.execute_reply": "2025-09-24T19:21:53.076225Z"
        },
        "id": "gWfmJRvOUJee"
      },
      "outputs": [],
      "execution_count": null
    },
    {
      "cell_type": "markdown",
      "source": [
        "#### **Verificación de valores faltantes, nulos o atípicos**"
      ],
      "metadata": {
        "id": "CBGVMsGkUJef"
      }
    },
    {
      "cell_type": "code",
      "source": [
        "# obtiene el total de valores nulos y ordena de forma descendente\n",
        "print(df.isnull().sum().sort_values(ascending=False))"
      ],
      "metadata": {
        "trusted": true,
        "execution": {
          "iopub.status.busy": "2025-09-24T19:21:53.081956Z",
          "iopub.execute_input": "2025-09-24T19:21:53.082943Z",
          "iopub.status.idle": "2025-09-24T19:21:53.100332Z",
          "shell.execute_reply.started": "2025-09-24T19:21:53.082903Z",
          "shell.execute_reply": "2025-09-24T19:21:53.099343Z"
        },
        "id": "ID7h3NUdUJef"
      },
      "outputs": [],
      "execution_count": null
    },
    {
      "cell_type": "code",
      "source": [
        "# obtiene el total de valores NaN y ordena de forma descendente\n",
        "print(df.isna().sum().sort_values(ascending=False))"
      ],
      "metadata": {
        "trusted": true,
        "execution": {
          "iopub.status.busy": "2025-09-24T19:21:53.101249Z",
          "iopub.execute_input": "2025-09-24T19:21:53.101553Z",
          "iopub.status.idle": "2025-09-24T19:21:53.124991Z",
          "shell.execute_reply.started": "2025-09-24T19:21:53.101525Z",
          "shell.execute_reply": "2025-09-24T19:21:53.123967Z"
        },
        "id": "D-COGb0JUJef"
      },
      "outputs": [],
      "execution_count": null
    },
    {
      "cell_type": "markdown",
      "source": [
        "**NOTAS:**\n",
        "\n",
        "- No se halla evidencia de valores nulos, faltantes o atípicos.\n",
        "- Los datos parecen completos.\n",
        "- Hace falta mayor profundidad de análisis para verificar la calidad e integridad de los datos."
      ],
      "metadata": {
        "id": "FrVq_EsfUJef"
      }
    },
    {
      "cell_type": "code",
      "source": [
        "# obtiene el resumen estadístico de los datos\n",
        "print(df.describe())"
      ],
      "metadata": {
        "trusted": true,
        "execution": {
          "iopub.status.busy": "2025-09-24T19:21:53.126076Z",
          "iopub.execute_input": "2025-09-24T19:21:53.126462Z",
          "iopub.status.idle": "2025-09-24T19:21:53.179786Z",
          "shell.execute_reply.started": "2025-09-24T19:21:53.126431Z",
          "shell.execute_reply": "2025-09-24T19:21:53.178556Z"
        },
        "id": "ZNcasrhrUJeg"
      },
      "outputs": [],
      "execution_count": null
    },
    {
      "cell_type": "code",
      "source": [
        "# obtiene el GPA promedio y almacena en una variable\n",
        "course_score = df[['GPA']].mean().round(2).sort_values(ascending=False)\n",
        "\n",
        "# imprime el resultado\n",
        "print(course_score)"
      ],
      "metadata": {
        "trusted": true,
        "execution": {
          "iopub.status.busy": "2025-09-24T19:21:53.181456Z",
          "iopub.execute_input": "2025-09-24T19:21:53.181918Z",
          "iopub.status.idle": "2025-09-24T19:21:53.191671Z",
          "shell.execute_reply.started": "2025-09-24T19:21:53.181861Z",
          "shell.execute_reply": "2025-09-24T19:21:53.1906Z"
        },
        "id": "uLsBcjJdUJeg"
      },
      "outputs": [],
      "execution_count": null
    },
    {
      "cell_type": "code",
      "source": [
        "# agrupa por GPA y calcula la suma de varios cursos de matemáticas\n",
        "gpa_and_course_score = df.groupby('GPA')[['Algebra', 'Calculus1', 'Calculus2']].agg({'mean', 'median', 'min', 'max'}).reset_index().sort_values(by=['GPA'], ascending=False)\n",
        "\n",
        "# imprime el resultado\n",
        "print(gpa_and_course_score)"
      ],
      "metadata": {
        "trusted": true,
        "execution": {
          "iopub.status.busy": "2025-09-24T19:21:53.192967Z",
          "iopub.execute_input": "2025-09-24T19:21:53.193405Z",
          "iopub.status.idle": "2025-09-24T19:21:53.248865Z",
          "shell.execute_reply.started": "2025-09-24T19:21:53.193374Z",
          "shell.execute_reply": "2025-09-24T19:21:53.247094Z"
        },
        "id": "gS1DRpn9UJeh"
      },
      "outputs": [],
      "execution_count": null
    },
    {
      "cell_type": "markdown",
      "source": [
        "# **Visualización de datos**"
      ],
      "metadata": {
        "id": "S1q3KrWWUJeh"
      }
    },
    {
      "cell_type": "code",
      "source": [
        "# crea un histograma de GPA\n",
        "sns.histplot(df['GPA'], alpha = 0.9)\n",
        "plt.title('Distribución del puntaje de GPA')\n",
        "plt.ylabel('Conteo')"
      ],
      "metadata": {
        "trusted": true,
        "execution": {
          "iopub.status.busy": "2025-09-24T19:21:53.25043Z",
          "iopub.execute_input": "2025-09-24T19:21:53.25076Z",
          "iopub.status.idle": "2025-09-24T19:21:53.709744Z",
          "shell.execute_reply.started": "2025-09-24T19:21:53.250734Z",
          "shell.execute_reply": "2025-09-24T19:21:53.708755Z"
        },
        "id": "EaC_O9hqUJei"
      },
      "outputs": [],
      "execution_count": null
    },
    {
      "cell_type": "code",
      "source": [
        "# crea un histograma de Calculo 1 y 2\n",
        "sns.histplot(df[['Calculus1', 'Calculus2']], alpha=0.8, bins = 10)\n",
        "plt.title('Distribución del puntaje entre Calculo 1 y 2')\n",
        "plt.xlabel('Puntaje')\n",
        "plt.ylabel('Conteo')"
      ],
      "metadata": {
        "trusted": true,
        "execution": {
          "iopub.status.busy": "2025-09-24T19:22:25.240382Z",
          "iopub.execute_input": "2025-09-24T19:22:25.240671Z",
          "iopub.status.idle": "2025-09-24T19:22:25.696587Z",
          "shell.execute_reply.started": "2025-09-24T19:22:25.240651Z",
          "shell.execute_reply": "2025-09-24T19:22:25.694997Z"
        },
        "id": "aM85ldKSUJei"
      },
      "outputs": [],
      "execution_count": null
    },
    {
      "cell_type": "code",
      "source": [
        "# crea un histograma de estadística y probabilidad\n",
        "sns.histplot(df[['Statistics', 'Probability']], alpha = 0.65, bins = 10)\n",
        "plt.title('Distribución del puntaje (estadística y probabilidad)')\n",
        "plt.xlabel('Puntaje')\n",
        "plt.ylabel('Conteo')"
      ],
      "metadata": {
        "trusted": true,
        "execution": {
          "iopub.status.busy": "2025-09-24T19:22:53.242709Z",
          "iopub.execute_input": "2025-09-24T19:22:53.243099Z",
          "iopub.status.idle": "2025-09-24T19:22:53.701488Z",
          "shell.execute_reply.started": "2025-09-24T19:22:53.243071Z",
          "shell.execute_reply": "2025-09-24T19:22:53.700444Z"
        },
        "id": "rugtqvlrUJej"
      },
      "outputs": [],
      "execution_count": null
    },
    {
      "cell_type": "markdown",
      "source": [
        "**NOTAS**\n",
        "\n",
        "- La distribución de los cursos anteriores sigue una tendencia similar a la del GPA.\n",
        "- Es lógico pensar que los estudiantes con un mejor GPA acumulado son:\n",
        "    - Aquellos que obtienen una puntuación más alta en cursos de matemáticas y estadísticas.\n",
        "    - Aquellos que reportan una asistencia constante a sus clases.\n"
      ],
      "metadata": {
        "id": "818RU_I9UJek"
      }
    },
    {
      "cell_type": "code",
      "source": [
        "# crea una variable con el recuento de generos\n",
        "gender_counts = df['gender'].value_counts()\n",
        "\n",
        "# Aplica el estilo de Seaborn\n",
        "sns.set(style=\"whitegrid\")\n",
        "\n",
        "# crea un gráfico circular con la distribución de los géneros\n",
        "plt.pie(gender_counts, labels=gender_counts.index, autopct='%.2f%%', startangle=90)\n",
        "plt.title('Distribución de géneros')\n",
        "plt.axis('equal')\n",
        "plt.show()"
      ],
      "metadata": {
        "trusted": true,
        "execution": {
          "iopub.status.busy": "2025-09-24T19:21:54.436273Z",
          "iopub.execute_input": "2025-09-24T19:21:54.436563Z",
          "iopub.status.idle": "2025-09-24T19:21:54.567577Z",
          "shell.execute_reply.started": "2025-09-24T19:21:54.43654Z",
          "shell.execute_reply": "2025-09-24T19:21:54.566254Z"
        },
        "id": "hXPq1jLFUJel"
      },
      "outputs": [],
      "execution_count": null
    },
    {
      "cell_type": "code",
      "source": [
        "# imprime el recuento de generos\n",
        "print(gender_counts)"
      ],
      "metadata": {
        "trusted": true,
        "execution": {
          "iopub.status.busy": "2025-09-24T19:21:54.568656Z",
          "iopub.execute_input": "2025-09-24T19:21:54.569023Z",
          "iopub.status.idle": "2025-09-24T19:21:54.574984Z",
          "shell.execute_reply.started": "2025-09-24T19:21:54.568988Z",
          "shell.execute_reply": "2025-09-24T19:21:54.573953Z"
        },
        "id": "xJzvSwEZUJem"
      },
      "outputs": [],
      "execution_count": null
    },
    {
      "cell_type": "markdown",
      "source": [
        "**NOTAS:**\n",
        "\n",
        "- Se cuenta con registros de 68 estudiantes femeninas y 28 masculinos.\n",
        "- La distribución y el recuento de géneros siguen un patron de tendencia global.\n",
        "- Las mujeres se hacen cada vez más participes en áreas clave como STEM.\n"
      ],
      "metadata": {
        "id": "BC7dfwxJUJen"
      }
    },
    {
      "cell_type": "code",
      "source": [
        "# imprime la proporción de estudiantes masculinos y femeninos\n",
        "print(round(df['gender'].value_counts(normalize=True) * 100, 2))"
      ],
      "metadata": {
        "trusted": true,
        "execution": {
          "iopub.status.busy": "2025-09-24T19:21:54.575899Z",
          "iopub.execute_input": "2025-09-24T19:21:54.576203Z",
          "iopub.status.idle": "2025-09-24T19:21:54.596718Z",
          "shell.execute_reply.started": "2025-09-24T19:21:54.576178Z",
          "shell.execute_reply": "2025-09-24T19:21:54.595682Z"
        },
        "id": "YYLc6tIsUJen"
      },
      "outputs": [],
      "execution_count": null
    },
    {
      "cell_type": "markdown",
      "source": [
        "**NOTAS:**\n",
        "\n",
        "- La proporción de estudiantes identificados como masculinos es de 35.24%.\n",
        "- Mientras que las estudiantes que se identifican como femeninas asciende e 64.76%.\n",
        "- Esto muestra una participación mayoritaria del grupo femenino en este conjunto de datos."
      ],
      "metadata": {
        "id": "vVga1ZmHUJeo"
      }
    },
    {
      "cell_type": "code",
      "source": [
        "# visualiza un gráfico de pares\n",
        "sns.pairplot(df[['GPA', 'Calculus1', 'Calculus2', 'Algebra', 'Statistics']])"
      ],
      "metadata": {
        "trusted": true,
        "execution": {
          "iopub.status.busy": "2025-09-24T19:21:54.597862Z",
          "iopub.execute_input": "2025-09-24T19:21:54.598223Z",
          "iopub.status.idle": "2025-09-24T19:22:02.378218Z",
          "shell.execute_reply.started": "2025-09-24T19:21:54.598202Z",
          "shell.execute_reply": "2025-09-24T19:22:02.376798Z"
        },
        "id": "ZiNmayEoUJeo"
      },
      "outputs": [],
      "execution_count": null
    },
    {
      "cell_type": "code",
      "source": [
        "print(df.columns.tolist())"
      ],
      "metadata": {
        "trusted": true,
        "execution": {
          "iopub.status.busy": "2025-09-24T19:22:02.379426Z",
          "iopub.execute_input": "2025-09-24T19:22:02.379957Z",
          "iopub.status.idle": "2025-09-24T19:22:02.387082Z",
          "shell.execute_reply.started": "2025-09-24T19:22:02.379805Z",
          "shell.execute_reply": "2025-09-24T19:22:02.385252Z"
        },
        "id": "-Z_R_j1SUJep"
      },
      "outputs": [],
      "execution_count": null
    },
    {
      "cell_type": "code",
      "source": [
        "print(df.info())"
      ],
      "metadata": {
        "trusted": true,
        "execution": {
          "iopub.status.busy": "2025-09-24T19:22:02.388115Z",
          "iopub.execute_input": "2025-09-24T19:22:02.388511Z",
          "iopub.status.idle": "2025-09-24T19:22:02.437643Z",
          "shell.execute_reply.started": "2025-09-24T19:22:02.388483Z",
          "shell.execute_reply": "2025-09-24T19:22:02.435813Z"
        },
        "id": "Ete0lwCTUJep"
      },
      "outputs": [],
      "execution_count": null
    },
    {
      "cell_type": "code",
      "source": [
        "df"
      ],
      "metadata": {
        "trusted": true,
        "execution": {
          "iopub.status.busy": "2025-09-24T19:22:02.439325Z",
          "iopub.execute_input": "2025-09-24T19:22:02.43982Z",
          "iopub.status.idle": "2025-09-24T19:22:02.504335Z",
          "shell.execute_reply.started": "2025-09-24T19:22:02.439784Z",
          "shell.execute_reply": "2025-09-24T19:22:02.503269Z"
        },
        "id": "GZzuhq2lUJez"
      },
      "outputs": [],
      "execution_count": null
    },
    {
      "cell_type": "code",
      "source": [
        "# imprime los valores únicos\n",
        "print(df.nunique())"
      ],
      "metadata": {
        "trusted": true,
        "execution": {
          "iopub.status.busy": "2025-09-24T19:22:02.506322Z",
          "iopub.execute_input": "2025-09-24T19:22:02.506906Z",
          "iopub.status.idle": "2025-09-24T19:22:02.528233Z",
          "shell.execute_reply.started": "2025-09-24T19:22:02.506847Z",
          "shell.execute_reply": "2025-09-24T19:22:02.526324Z"
        },
        "id": "CYS9zLWCUJe0"
      },
      "outputs": [],
      "execution_count": null
    },
    {
      "cell_type": "code",
      "source": [
        "# imprime todos los valores únicos de calificaciones en from1\n",
        "print('Valores únicos de from1:\\n', df['from1'].unique().tolist())"
      ],
      "metadata": {
        "trusted": true,
        "execution": {
          "iopub.status.busy": "2025-09-24T19:22:02.53062Z",
          "iopub.execute_input": "2025-09-24T19:22:02.531049Z",
          "iopub.status.idle": "2025-09-24T19:22:02.572196Z",
          "shell.execute_reply.started": "2025-09-24T19:22:02.531015Z",
          "shell.execute_reply": "2025-09-24T19:22:02.57044Z"
        },
        "id": "U8Yt-AmYUJe0"
      },
      "outputs": [],
      "execution_count": null
    },
    {
      "cell_type": "code",
      "source": [
        "# imprime los valores únicos de calificaciones en from2\n",
        "print('Valores únicos de from2:\\n', df['from2'].unique().tolist())"
      ],
      "metadata": {
        "trusted": true,
        "execution": {
          "iopub.status.busy": "2025-09-24T19:22:02.574338Z",
          "iopub.execute_input": "2025-09-24T19:22:02.574717Z",
          "iopub.status.idle": "2025-09-24T19:22:02.604651Z",
          "shell.execute_reply.started": "2025-09-24T19:22:02.574686Z",
          "shell.execute_reply": "2025-09-24T19:22:02.603321Z"
        },
        "id": "VQzs2k-DUJe1"
      },
      "outputs": [],
      "execution_count": null
    },
    {
      "cell_type": "code",
      "source": [
        "# imprime los valores únicos de calificaciones en from3\n",
        "print('Valores únicos de from3:\\n', df['from3'].unique().tolist())"
      ],
      "metadata": {
        "trusted": true,
        "execution": {
          "iopub.status.busy": "2025-09-24T19:22:02.610619Z",
          "iopub.execute_input": "2025-09-24T19:22:02.610989Z",
          "iopub.status.idle": "2025-09-24T19:22:02.6398Z",
          "shell.execute_reply.started": "2025-09-24T19:22:02.610963Z",
          "shell.execute_reply": "2025-09-24T19:22:02.638583Z"
        },
        "id": "w1lEnOPkUJe2"
      },
      "outputs": [],
      "execution_count": null
    },
    {
      "cell_type": "code",
      "source": [
        "# imprime el recuento de valoes de calificaciones from1\n",
        "print(df['from1'].value_counts())"
      ],
      "metadata": {
        "trusted": true,
        "execution": {
          "iopub.status.busy": "2025-09-24T19:22:02.641217Z",
          "iopub.execute_input": "2025-09-24T19:22:02.642292Z",
          "iopub.status.idle": "2025-09-24T19:22:02.686246Z",
          "shell.execute_reply.started": "2025-09-24T19:22:02.642248Z",
          "shell.execute_reply": "2025-09-24T19:22:02.684981Z"
        },
        "id": "fCICWVIQUJe2"
      },
      "outputs": [],
      "execution_count": null
    },
    {
      "cell_type": "code",
      "source": [
        "# imprime el recuento de valoes de calificaciones from2\n",
        "print(df['from2'].value_counts())"
      ],
      "metadata": {
        "trusted": true,
        "execution": {
          "iopub.status.busy": "2025-09-24T19:22:02.687294Z",
          "iopub.execute_input": "2025-09-24T19:22:02.687636Z",
          "iopub.status.idle": "2025-09-24T19:22:02.716179Z",
          "shell.execute_reply.started": "2025-09-24T19:22:02.687612Z",
          "shell.execute_reply": "2025-09-24T19:22:02.714729Z"
        },
        "id": "mmFGxTKHUJe3"
      },
      "outputs": [],
      "execution_count": null
    },
    {
      "cell_type": "code",
      "source": [
        "# imprime el recuento de valoes de calificaciones from3\n",
        "print(df['from3'].value_counts())"
      ],
      "metadata": {
        "trusted": true,
        "execution": {
          "iopub.status.busy": "2025-09-24T19:22:02.717244Z",
          "iopub.execute_input": "2025-09-24T19:22:02.718569Z",
          "iopub.status.idle": "2025-09-24T19:22:02.749028Z",
          "shell.execute_reply.started": "2025-09-24T19:22:02.71854Z",
          "shell.execute_reply": "2025-09-24T19:22:02.747623Z"
        },
        "id": "uWbnZhOhUJe4"
      },
      "outputs": [],
      "execution_count": null
    },
    {
      "cell_type": "code",
      "source": [
        "# crea un gráfico de dispersión entre GPA y Algebra\n",
        "sns.scatterplot(x = df['GPA'], y = df['Algebra'])\n",
        "plt.title('GPA vs Algebra')"
      ],
      "metadata": {
        "trusted": true,
        "execution": {
          "iopub.status.busy": "2025-09-24T19:22:02.750219Z",
          "iopub.execute_input": "2025-09-24T19:22:02.750552Z",
          "iopub.status.idle": "2025-09-24T19:22:03.173215Z",
          "shell.execute_reply.started": "2025-09-24T19:22:02.750524Z",
          "shell.execute_reply": "2025-09-24T19:22:03.172115Z"
        },
        "id": "66WY_vNjUJe5"
      },
      "outputs": [],
      "execution_count": null
    },
    {
      "cell_type": "code",
      "source": [
        "# crea un gráfico de dispersión entre GPA y Estadística\n",
        "sns.scatterplot(x = df['GPA'], y = df['Statistics'])\n",
        "plt.title('GPA vs Estadística')"
      ],
      "metadata": {
        "trusted": true,
        "execution": {
          "iopub.status.busy": "2025-09-24T19:22:03.174567Z",
          "iopub.execute_input": "2025-09-24T19:22:03.175012Z",
          "iopub.status.idle": "2025-09-24T19:22:03.557241Z",
          "shell.execute_reply.started": "2025-09-24T19:22:03.17487Z",
          "shell.execute_reply": "2025-09-24T19:22:03.555752Z"
        },
        "id": "coU8zRLIUJe5"
      },
      "outputs": [],
      "execution_count": null
    },
    {
      "cell_type": "code",
      "source": [
        "# crea un gráfico de subparcelas\n",
        "fig, axs = plt.subplots(nrows = 1, ncols = 2, figsize=(10, 6))\n",
        "sns.scatterplot(x = df['GPA'], y = df['Statistics'], ax = axs[0])\n",
        "sns.scatterplot(x = df['GPA'], y = df['Algebra'], ax = axs[1])\n",
        "plt.show()"
      ],
      "metadata": {
        "trusted": true,
        "execution": {
          "iopub.status.busy": "2025-09-24T19:22:03.558661Z",
          "iopub.execute_input": "2025-09-24T19:22:03.559851Z",
          "iopub.status.idle": "2025-09-24T19:22:04.081133Z",
          "shell.execute_reply.started": "2025-09-24T19:22:03.559821Z",
          "shell.execute_reply": "2025-09-24T19:22:04.080048Z"
        },
        "id": "fd5VrKKyUJe6"
      },
      "outputs": [],
      "execution_count": null
    },
    {
      "cell_type": "code",
      "source": [
        "# crea un gráfico de subparcelas\n",
        "fig, axs = plt.subplots(nrows = 1, ncols = 2, figsize=(10, 6))\n",
        "sns.scatterplot(x = df['GPA'], y = df['Calculus1'], ax = axs[0])\n",
        "sns.scatterplot(x = df['GPA'], y = df['Calculus2'], ax = axs[1])\n",
        "plt.show()"
      ],
      "metadata": {
        "trusted": true,
        "execution": {
          "iopub.status.busy": "2025-09-24T19:22:04.082308Z",
          "iopub.execute_input": "2025-09-24T19:22:04.082646Z",
          "iopub.status.idle": "2025-09-24T19:22:04.569372Z",
          "shell.execute_reply.started": "2025-09-24T19:22:04.082618Z",
          "shell.execute_reply": "2025-09-24T19:22:04.568293Z"
        },
        "id": "9j5iSnzkUJe7"
      },
      "outputs": [],
      "execution_count": null
    },
    {
      "cell_type": "code",
      "source": [
        "# crea un gráfico con subparcelas\n",
        "fig, axs = plt.subplots(nrows = 2, ncols = 2, figsize=(12, 8))\n",
        "\n",
        "axs[0, 0].hist(df['Probability'])\n",
        "axs[0, 0].set_xlabel('Probabilidad')\n",
        "axs[0, 0].set_ylabel('Frecuencia')\n",
        "\n",
        "axs[0, 1].hist(df['Measure'])\n",
        "axs[0, 1].set_xlabel('Medición')\n",
        "axs[0, 1].set_ylabel('Frecuencia')\n",
        "\n",
        "axs[1, 0].hist(df['Functional_analysis'])\n",
        "axs[1, 0].set_xlabel('Análisis Funcional')\n",
        "axs[1, 0].set_ylabel('Frecuencia')\n",
        "\n",
        "axs[1, 1].hist(df['Statistics'])\n",
        "axs[1, 1].set_xlabel('Estadística')\n",
        "axs[1, 1].set_ylabel('Frecuencia')\n",
        "\n",
        "plt.tight_layout()\n",
        "plt.show()"
      ],
      "metadata": {
        "trusted": true,
        "execution": {
          "iopub.status.busy": "2025-09-24T19:22:04.570663Z",
          "iopub.execute_input": "2025-09-24T19:22:04.571044Z",
          "iopub.status.idle": "2025-09-24T19:22:05.731802Z",
          "shell.execute_reply.started": "2025-09-24T19:22:04.571009Z",
          "shell.execute_reply": "2025-09-24T19:22:05.730382Z"
        },
        "id": "aHoY_FglUJe7"
      },
      "outputs": [],
      "execution_count": null
    },
    {
      "cell_type": "markdown",
      "source": [
        "#### **¿Cuál es el GPA promedio de los estudiantes y que factores influencian el resultado?**"
      ],
      "metadata": {
        "id": "qlMadEk1UJe8"
      }
    },
    {
      "cell_type": "code",
      "source": [
        "# obtiene el promedio de GPA y redondea a dos decimales\n",
        "gpa_mean = df['GPA'].mean().round(2)\n",
        "\n",
        "# imprime el resultado\n",
        "print(f'El puntuaje de GPA promedio de los estudiantes es: {gpa_mean}')"
      ],
      "metadata": {
        "trusted": true,
        "execution": {
          "iopub.status.busy": "2025-09-24T19:22:05.732623Z",
          "iopub.execute_input": "2025-09-24T19:22:05.734104Z",
          "iopub.status.idle": "2025-09-24T19:22:05.743006Z",
          "shell.execute_reply.started": "2025-09-24T19:22:05.734066Z",
          "shell.execute_reply": "2025-09-24T19:22:05.740386Z"
        },
        "id": "hqd22cPdUJe-"
      },
      "outputs": [],
      "execution_count": null
    },
    {
      "cell_type": "code",
      "source": [
        "# Paleta\n",
        "paleta = sns.color_palette(\"viridis\", n_colors=5)"
      ],
      "metadata": {
        "trusted": true,
        "execution": {
          "iopub.status.busy": "2025-09-24T19:22:05.743873Z",
          "iopub.execute_input": "2025-09-24T19:22:05.744347Z",
          "iopub.status.idle": "2025-09-24T19:22:05.782217Z",
          "shell.execute_reply.started": "2025-09-24T19:22:05.744313Z",
          "shell.execute_reply": "2025-09-24T19:22:05.780401Z"
        },
        "id": "ymE7BarEUJe-"
      },
      "outputs": [],
      "execution_count": null
    },
    {
      "cell_type": "code",
      "source": [
        "# histograma de GPA\n",
        "plt.hist(df['GPA'], bins = 10)\n",
        "plt.title('Distribución de GPA')\n",
        "plt.xlabel('Puntaje')\n",
        "plt.ylabel('Frecuencia')\n",
        "plt.show()"
      ],
      "metadata": {
        "trusted": true,
        "execution": {
          "iopub.status.busy": "2025-09-24T19:22:05.78393Z",
          "iopub.execute_input": "2025-09-24T19:22:05.785213Z",
          "iopub.status.idle": "2025-09-24T19:22:06.070368Z",
          "shell.execute_reply.started": "2025-09-24T19:22:05.78517Z",
          "shell.execute_reply": "2025-09-24T19:22:06.069325Z"
        },
        "id": "dVw1y0laUJe_"
      },
      "outputs": [],
      "execution_count": null
    },
    {
      "cell_type": "markdown",
      "source": [
        "**NOTAS:**\n",
        "\n",
        "- GPA sigue una distribución sesgada a la derecha con una pequeña cola a la izquierda.\n",
        "- Tiene un pico máximo de entre 85 y 88 puntos.\n",
        "- Este pico tiene una frecuencia de histograma de 25 estudiantes con una puntuación comprendida en esos puntos."
      ],
      "metadata": {
        "id": "GkcqbEeOUJe_"
      }
    },
    {
      "cell_type": "code",
      "source": [
        "# histograma de GPA\n",
        "sns.histplot(df[['GPA', 'Calculus1']], bins = 20, alpha = 0.8)\n",
        "plt.xlabel('Puntaje')\n",
        "plt.ylabel('Frecuencia')\n",
        "plt.title('Distribución de de GPA y Calculo 1')"
      ],
      "metadata": {
        "trusted": true,
        "execution": {
          "iopub.status.busy": "2025-09-24T19:22:06.071415Z",
          "iopub.execute_input": "2025-09-24T19:22:06.071659Z",
          "iopub.status.idle": "2025-09-24T19:22:06.53063Z",
          "shell.execute_reply.started": "2025-09-24T19:22:06.07164Z",
          "shell.execute_reply": "2025-09-24T19:22:06.528806Z"
        },
        "id": "Yw9C24xEUJfA"
      },
      "outputs": [],
      "execution_count": null
    },
    {
      "cell_type": "code",
      "source": [
        "# histograma de GPA\n",
        "sns.histplot(df[['GPA', 'Calculus2']], bins = 20, alpha = 0.8)\n",
        "plt.xlabel('Puntaje')\n",
        "plt.ylabel('Frecuencia')\n",
        "plt.title('Distribución de GPA y Calculo 2')"
      ],
      "metadata": {
        "trusted": true,
        "execution": {
          "iopub.status.busy": "2025-09-24T19:22:06.532389Z",
          "iopub.execute_input": "2025-09-24T19:22:06.532706Z",
          "iopub.status.idle": "2025-09-24T19:22:06.994773Z",
          "shell.execute_reply.started": "2025-09-24T19:22:06.532685Z",
          "shell.execute_reply": "2025-09-24T19:22:06.993763Z"
        },
        "id": "5ENpsIpiUJfC"
      },
      "outputs": [],
      "execution_count": null
    },
    {
      "cell_type": "code",
      "source": [
        "sns.histplot(df[['GPA', 'Probability']], alpha = 0.8)\n",
        "plt.title('Distribución de GPA y Probabilidad')"
      ],
      "metadata": {
        "trusted": true,
        "execution": {
          "iopub.status.busy": "2025-09-24T19:22:06.995728Z",
          "iopub.execute_input": "2025-09-24T19:22:06.996047Z",
          "iopub.status.idle": "2025-09-24T19:22:07.628495Z",
          "shell.execute_reply.started": "2025-09-24T19:22:06.996023Z",
          "shell.execute_reply": "2025-09-24T19:22:07.627565Z"
        },
        "id": "h3p_vx1nUJfC"
      },
      "outputs": [],
      "execution_count": null
    },
    {
      "cell_type": "code",
      "source": [
        "df[['GPA', 'Probability', 'Statistics', 'Functional_analysis']].hist(figsize=(10, 8))"
      ],
      "metadata": {
        "trusted": true,
        "execution": {
          "iopub.status.busy": "2025-09-24T19:22:07.629564Z",
          "iopub.execute_input": "2025-09-24T19:22:07.629913Z",
          "iopub.status.idle": "2025-09-24T19:22:08.832226Z",
          "shell.execute_reply.started": "2025-09-24T19:22:07.629856Z",
          "shell.execute_reply": "2025-09-24T19:22:08.831217Z"
        },
        "id": "TysnuqYVUJfD"
      },
      "outputs": [],
      "execution_count": null
    },
    {
      "cell_type": "markdown",
      "source": [
        "**NOTAS:**\n",
        "\n",
        "- Las puntuaciones de GPA, Probability, Statistics y Functional analysis siguen una distribución similar."
      ],
      "metadata": {
        "id": "coTQxLHOUJfD"
      }
    },
    {
      "cell_type": "code",
      "source": [
        "# obtiene el promedio de GPA por género\n",
        "df.groupby('gender')['GPA'].mean().sort_values(ascending = False)"
      ],
      "metadata": {
        "trusted": true,
        "execution": {
          "iopub.status.busy": "2025-09-24T19:22:08.833657Z",
          "iopub.execute_input": "2025-09-24T19:22:08.834073Z",
          "iopub.status.idle": "2025-09-24T19:22:08.842379Z",
          "shell.execute_reply.started": "2025-09-24T19:22:08.83405Z",
          "shell.execute_reply": "2025-09-24T19:22:08.841292Z"
        },
        "id": "VUoMOtjBUJfE"
      },
      "outputs": [],
      "execution_count": null
    },
    {
      "cell_type": "code",
      "source": [
        "# obtiene el promedio de GPA por género\n",
        "df.groupby('gender')['GPA'].sum().sort_values(ascending = False)"
      ],
      "metadata": {
        "trusted": true,
        "execution": {
          "iopub.status.busy": "2025-09-24T19:22:08.84337Z",
          "iopub.execute_input": "2025-09-24T19:22:08.843688Z",
          "iopub.status.idle": "2025-09-24T19:22:08.867232Z",
          "shell.execute_reply.started": "2025-09-24T19:22:08.843654Z",
          "shell.execute_reply": "2025-09-24T19:22:08.866467Z"
        },
        "id": "VF5PsJbLUJfE"
      },
      "outputs": [],
      "execution_count": null
    },
    {
      "cell_type": "markdown",
      "source": [
        "**NOTAS:**\n",
        "\n",
        "- Hay una pequeña superioridad del género femenino en el promedio de puntuación de GPA.\n",
        "- El puntaje total acumulado de este género asciende a 5681.96, en contraparte del 3028.53 de los masculinos."
      ],
      "metadata": {
        "id": "C9JyLN1rUJfF"
      }
    },
    {
      "cell_type": "code",
      "source": [
        "# obtiene el recuento de estudiantes por género\n",
        "df['gender'].value_counts().sort_values(ascending = False)"
      ],
      "metadata": {
        "trusted": true,
        "execution": {
          "iopub.status.busy": "2025-09-24T19:22:08.868131Z",
          "iopub.execute_input": "2025-09-24T19:22:08.868418Z",
          "iopub.status.idle": "2025-09-24T19:22:08.888405Z",
          "shell.execute_reply.started": "2025-09-24T19:22:08.868397Z",
          "shell.execute_reply": "2025-09-24T19:22:08.887417Z"
        },
        "id": "je0w5UXPUJfG"
      },
      "outputs": [],
      "execution_count": null
    },
    {
      "cell_type": "code",
      "source": [
        "# cuenta los estudiantes con puntuaje de GPA por género\n",
        "count_male = df[df['gender'] == 'male']['GPA'].count()\n",
        "count_female = df[df['gender'] == 'female']['GPA'].count()\n",
        "\n",
        "# imprime el resultado\n",
        "print(f'La diferencia cuantitaiva entre el género femenino y masculino es de {count_female - count_male} estudiantes.')"
      ],
      "metadata": {
        "trusted": true,
        "execution": {
          "iopub.status.busy": "2025-09-24T19:23:47.367446Z",
          "iopub.execute_input": "2025-09-24T19:23:47.367743Z",
          "iopub.status.idle": "2025-09-24T19:23:47.37653Z",
          "shell.execute_reply.started": "2025-09-24T19:23:47.367721Z",
          "shell.execute_reply": "2025-09-24T19:23:47.37473Z"
        },
        "id": "KkL_R4vcUJfG"
      },
      "outputs": [],
      "execution_count": null
    },
    {
      "cell_type": "markdown",
      "source": [
        "**NOTAS:**\n",
        "\n",
        "- Los resultados anteriores pueden ser explicados por el mayor número de estudiantes femininas en el conjunto de datos."
      ],
      "metadata": {
        "id": "tU1ZEqH3UJfH"
      }
    },
    {
      "cell_type": "code",
      "source": [
        "# calcula el rango general de las puntuaciones de GPA\n",
        "gpa_range = df['GPA'].max() - df['GPA'].min()\n",
        "\n",
        "# imprime el resultado\n",
        "print(f\"El rango general es: {round(gpa_range, 2)}\")"
      ],
      "metadata": {
        "trusted": true,
        "execution": {
          "iopub.status.busy": "2025-09-24T19:23:51.455794Z",
          "iopub.execute_input": "2025-09-24T19:23:51.456651Z",
          "iopub.status.idle": "2025-09-24T19:23:51.462411Z",
          "shell.execute_reply.started": "2025-09-24T19:23:51.456623Z",
          "shell.execute_reply": "2025-09-24T19:23:51.461553Z"
        },
        "id": "zA4lUYNgUJfH"
      },
      "outputs": [],
      "execution_count": null
    },
    {
      "cell_type": "code",
      "source": [
        "# calcula el rango del puntaje obtenido en GPA por género\n",
        "gpa_count_male = df[df['gender'] == 'male']['GPA'].max() - df[df['gender'] == 'male']['GPA'].min()\n",
        "gpa_count_female = df[df['gender'] == 'female']['GPA'].max() - df[df['gender'] == 'female']['GPA'].min()\n",
        "\n",
        "# imprime los resultados\n",
        "print(f'El rango de GPA para el género masculino es: {round(gpa_count_male, 2)}')\n",
        "print(f'El rango de GPA para el género femenino es: {round(gpa_count_female, 2)}')"
      ],
      "metadata": {
        "trusted": true,
        "execution": {
          "iopub.status.busy": "2025-09-24T19:23:53.612719Z",
          "iopub.execute_input": "2025-09-24T19:23:53.613055Z",
          "iopub.status.idle": "2025-09-24T19:23:53.623493Z",
          "shell.execute_reply.started": "2025-09-24T19:23:53.613033Z",
          "shell.execute_reply": "2025-09-24T19:23:53.62225Z"
        },
        "id": "-0_-Y2YLUJfI"
      },
      "outputs": [],
      "execution_count": null
    },
    {
      "cell_type": "markdown",
      "source": [
        "#### **¿Cuáles son los temas que mejor dominan los estudiantes?**"
      ],
      "metadata": {
        "id": "q3rVzZFfUJfI"
      }
    },
    {
      "cell_type": "code",
      "source": [
        "# obtiene el nombre de las columnas\n",
        "df.columns"
      ],
      "metadata": {
        "trusted": true,
        "execution": {
          "iopub.status.busy": "2025-09-24T19:24:35.228755Z",
          "iopub.execute_input": "2025-09-24T19:24:35.229138Z",
          "iopub.status.idle": "2025-09-24T19:24:35.235558Z",
          "shell.execute_reply.started": "2025-09-24T19:24:35.229089Z",
          "shell.execute_reply": "2025-09-24T19:24:35.234836Z"
        },
        "id": "HfLwSp6uUJfJ"
      },
      "outputs": [],
      "execution_count": null
    },
    {
      "cell_type": "code",
      "source": [
        "# agrupa por GPA y calcula el promedio y el total de calificaciones\n",
        "df.groupby('GPA')[['Algebra', 'Calculus1', 'Calculus2', 'Statistics', 'Probability', 'Measure', 'Functional_analysis']].agg({'sum', 'mean'})"
      ],
      "metadata": {
        "trusted": true,
        "execution": {
          "iopub.status.busy": "2025-09-24T19:29:25.567727Z",
          "iopub.execute_input": "2025-09-24T19:29:25.568179Z",
          "iopub.status.idle": "2025-09-24T19:29:25.602899Z",
          "shell.execute_reply.started": "2025-09-24T19:29:25.568155Z",
          "shell.execute_reply": "2025-09-24T19:29:25.602146Z"
        },
        "id": "V2jR42yNUJfK"
      },
      "outputs": [],
      "execution_count": null
    },
    {
      "cell_type": "code",
      "source": [
        "# obtiene el promedio por asignatura\n",
        "df[['Algebra', 'Calculus1', 'Calculus2', 'Statistics', 'Probability', 'Measure', 'Functional_analysis']].mean().sort_values(ascending = False)"
      ],
      "metadata": {
        "trusted": true,
        "execution": {
          "iopub.status.busy": "2025-09-24T19:30:09.110866Z",
          "iopub.execute_input": "2025-09-24T19:30:09.111238Z",
          "iopub.status.idle": "2025-09-24T19:30:09.122152Z",
          "shell.execute_reply.started": "2025-09-24T19:30:09.111214Z",
          "shell.execute_reply": "2025-09-24T19:30:09.121254Z"
        },
        "id": "Y3o4MJV7UJfK"
      },
      "outputs": [],
      "execution_count": null
    },
    {
      "cell_type": "markdown",
      "source": [
        "**NOTAS:**\n",
        "\n",
        "- Los cursos que mejor dominan los estudiantes son:\n",
        "    - Estadística (85.13).\n",
        "    - Probabilidad (83.87).\n",
        "    - Medición (80.76).\n",
        "- Por lo general, los estudiantes obtienen un rendimiento medio-alto en todas las materias."
      ],
      "metadata": {
        "id": "aXjD2Q6JUJfL"
      }
    },
    {
      "cell_type": "code",
      "source": [
        "# calcular la media por columna\n",
        "means = df[['Algebra', 'Calculus1', 'Calculus2', 'Statistics', 'Probability', 'Measure', 'Functional_analysis']].mean()\n",
        "\n",
        "# convertir a DataFrame para Seaborn\n",
        "means_df = means.reset_index()\n",
        "means_df.columns = ['Asignatura', 'Promedio']\n",
        "\n",
        "# gráfico de barras\n",
        "plt.figure(figsize=(8,5))\n",
        "sns.barplot(data=means_df, x='Asignatura', y='Promedio',  hue='Asignatura', dodge=False, palette='tab10')\n",
        "plt.xticks(rotation=45)\n",
        "plt.title(\"Promedio por asignatura\")\n",
        "plt.legend([],[], frameon=False)\n",
        "plt.show()"
      ],
      "metadata": {
        "trusted": true,
        "execution": {
          "iopub.status.busy": "2025-09-24T19:36:31.764435Z",
          "iopub.execute_input": "2025-09-24T19:36:31.764761Z",
          "iopub.status.idle": "2025-09-24T19:36:32.269659Z",
          "shell.execute_reply.started": "2025-09-24T19:36:31.764738Z",
          "shell.execute_reply": "2025-09-24T19:36:32.26869Z"
        },
        "id": "9obd9fV8UJfM"
      },
      "outputs": [],
      "execution_count": null
    },
    {
      "cell_type": "markdown",
      "source": [
        "#### **¿Cuáles son los temas que peor rendimiento registran los estudiantes?**"
      ],
      "metadata": {
        "id": "9uogVfooUJfM"
      }
    },
    {
      "cell_type": "markdown",
      "source": [
        "- De media, los estudiantes obtuvieron un buen rendimiento en todos los cursos.\n",
        "- Las asignaturas con la menor puntuación promedio son:\n",
        "    - Functional_analysis (75.32).\n",
        "    - Calculus1 (71.96)."
      ],
      "metadata": {
        "id": "IvCQwypwUJfO"
      }
    },
    {
      "cell_type": "markdown",
      "source": [
        "#### **¿Cuál es el GPA promedio de los estudiantes y que factores influencian el resultado?**"
      ],
      "metadata": {
        "id": "7yZw-OmFUJfP"
      }
    },
    {
      "cell_type": "code",
      "source": [
        "# obtiene el GPA promedio\n",
        "df['GPA'].mean().round(2)"
      ],
      "metadata": {
        "trusted": true,
        "execution": {
          "iopub.status.busy": "2025-09-24T19:41:31.237374Z",
          "iopub.execute_input": "2025-09-24T19:41:31.237674Z",
          "iopub.status.idle": "2025-09-24T19:41:31.243963Z",
          "shell.execute_reply.started": "2025-09-24T19:41:31.23765Z",
          "shell.execute_reply": "2025-09-24T19:41:31.24311Z"
        },
        "id": "OAiOQQueUJfQ"
      },
      "outputs": [],
      "execution_count": null
    },
    {
      "cell_type": "markdown",
      "source": [
        "**NOTAS:**\n",
        "- El promedio general de GPA es de 82.96.\n",
        "- Esto indica un desempeño adecuado de los estudiantes en distintas áreas de aprendizaje.\n",
        "- Los factores que influencian el resultado de GPA son:\n",
        "    - las puntuaciones en cursos de Ciencia, Tecnología, Ingeniería y Matemáticas (STEM).\n",
        "    - La asistencia y participación en clase.\n",
        "    - La realización de trabajos, talleres y proyectos.\n",
        "\n",
        "Es necesario mencionar que la forma en que se calcula el GPA tiene en cuenta los factores anteriores. En todo caso, el conjunto de datos nos muestra una ditribución similar entre el rendimiento en las asignaturas y el GPA obtenido."
      ],
      "metadata": {
        "id": "rGjr1BNEUJfQ"
      }
    },
    {
      "cell_type": "markdown",
      "source": [
        "#### **¿Qué estudiantes obtienen mejor desempeño según su género?**"
      ],
      "metadata": {
        "id": "TR7pXv3OUJfR"
      }
    },
    {
      "cell_type": "code",
      "source": [
        "# obtiene el GPA promedio según el género\n",
        "df.groupby('gender')['GPA'].mean().round(2).sort_values(ascending = False)"
      ],
      "metadata": {
        "trusted": true,
        "execution": {
          "iopub.status.busy": "2025-09-24T19:49:49.685526Z",
          "iopub.execute_input": "2025-09-24T19:49:49.685824Z",
          "iopub.status.idle": "2025-09-24T19:49:49.69456Z",
          "shell.execute_reply.started": "2025-09-24T19:49:49.685804Z",
          "shell.execute_reply": "2025-09-24T19:49:49.693696Z"
        },
        "id": "qY5TmRTjUJfR"
      },
      "outputs": [],
      "execution_count": null
    },
    {
      "cell_type": "markdown",
      "source": [
        "**NOTAS:**\n",
        "\n",
        "- Observamos un mejor rendimiento similar en ambos géneros.\n",
        "- Las estudiantes de género femenino obtienen de media dos puntos más en su puntuación de GPA que sus pares masculinos.\n",
        "- Esto se explica por la sobrerepresentación de las muejeres en el conjunto de datos."
      ],
      "metadata": {
        "id": "6kOvWMooUJfS"
      }
    },
    {
      "cell_type": "code",
      "source": [],
      "metadata": {
        "trusted": true,
        "id": "CZzXzcd_UJfS"
      },
      "outputs": [],
      "execution_count": null
    }
  ]
}